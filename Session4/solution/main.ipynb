{
 "cells": [
  {
   "cell_type": "code",
   "execution_count": null,
   "metadata": {},
   "outputs": [],
   "source": [
    "from kth_dataset import KTH_Dataset\n",
    "from torch.utils.data import DataLoader\n",
    "import torchvision.transforms as transforms\n",
    "from LSTMscratch import LSTMscratch\n",
    "import torch\n",
    "import numpy as np\n",
    "import torch.nn as nn\n",
    "from Model_Wrapper import Wrapper\n",
    "import tqdm\n",
    "import helper \n"
   ]
  },
  {
   "cell_type": "code",
   "execution_count": null,
   "metadata": {},
   "outputs": [],
   "source": [
    "helper.set_random_seed()\n"
   ]
  },
  {
   "cell_type": "code",
   "execution_count": null,
   "metadata": {},
   "outputs": [],
   "source": [
    "# Create a dataset and a DataLoader\n",
    "transforms = {\"train\":transforms.Compose([\n",
    "        transforms.ToTensor(),  # Convert image to tensor\n",
    "\n",
    "        transforms.Normalize((0.5,), (0.5,)),  # Normalize to [-1, 1]\n",
    "    ]),\n",
    "        \"val\": transforms.Compose([\n",
    "        transforms.ToTensor(),  # Convert image to tensor\n",
    "        transforms.Normalize((0.5,), (0.5,)),  # Normalize to [-1, 1]\n",
    "    ]) }\n",
    "# Initialize dataset\n",
    "test_dataset = KTH_Dataset(root_dir=\"/home/nfs/inf6/data/datasets/kth_actions/processed\", sequence_length=15,split=\"test\", transform=transforms[\"train\"],use_saved_samples=True)\n",
    "train_dataset = KTH_Dataset(root_dir=\"/home/nfs/inf6/data/datasets/kth_actions/processed\", sequence_length=15,split=\"train\", transform=transforms[\"val\"],use_saved_samples=True)\n"
   ]
  },
  {
   "cell_type": "code",
   "execution_count": 55,
   "metadata": {},
   "outputs": [
    {
     "data": {
      "text/plain": [
       "181826"
      ]
     },
     "execution_count": 55,
     "metadata": {},
     "output_type": "execute_result"
    }
   ],
   "source": [
    "train_dataset.__len__()"
   ]
  },
  {
   "cell_type": "code",
   "execution_count": 56,
   "metadata": {},
   "outputs": [
    {
     "name": "stdout",
     "output_type": "stream",
     "text": [
      "test_dataset per epoch torch.Size([128, 15, 1, 64, 64])\n"
     ]
    }
   ],
   "source": [
    "train_loader = DataLoader(train_dataset, batch_size=128, shuffle=True,num_workers=8,pin_memory=True)\n",
    "test_loader = DataLoader(test_dataset, batch_size=128, shuffle=False,num_workers=8,pin_memory=True)\n",
    "print(\"test_dataset per epoch\",next(iter(test_loader))[0].size())"
   ]
  },
  {
   "cell_type": "code",
   "execution_count": 57,
   "metadata": {},
   "outputs": [],
   "source": [
    "device = torch.device(\"cuda\" if torch.cuda.is_available() else \"cpu\")"
   ]
  },
  {
   "cell_type": "code",
   "execution_count": 58,
   "metadata": {},
   "outputs": [],
   "source": [
    "model = LSTMscratch(input_dim=64, hidden_dim=16, number_of_layers=3, device=device)"
   ]
  },
  {
   "cell_type": "code",
   "execution_count": 59,
   "metadata": {},
   "outputs": [],
   "source": [
    "# model_t = SequentialClassifierWithCells(emb_dim=128, hidden_dim=128, num_layers=2, mode=\"zeros\")\n",
    "model = model.to(device)\n"
   ]
  },
  {
   "cell_type": "code",
   "execution_count": 60,
   "metadata": {},
   "outputs": [],
   "source": [
    "# classification loss function\n",
    "criterion = nn.CrossEntropyLoss()\n",
    "\n",
    "# Observe that all parameters are being optimized\n",
    "optimizer = torch.optim.Adam(model.parameters(), lr=3e-4)\n",
    "\n",
    "# Decay LR by a factor of 0.1 every 5 epochs\n",
    "scheduler = torch.optim.lr_scheduler.StepLR(optimizer, step_size=5, gamma=0.2)"
   ]
  },
  {
   "cell_type": "code",
   "execution_count": 61,
   "metadata": {},
   "outputs": [
    {
     "data": {
      "text/plain": [
       "device(type='cuda')"
      ]
     },
     "execution_count": 61,
     "metadata": {},
     "output_type": "execute_result"
    }
   ],
   "source": [
    "device"
   ]
  },
  {
   "cell_type": "code",
   "execution_count": 62,
   "metadata": {},
   "outputs": [],
   "source": [
    "model = model.to(device)"
   ]
  },
  {
   "cell_type": "code",
   "execution_count": null,
   "metadata": {},
   "outputs": [
    {
     "name": "stderr",
     "output_type": "stream",
     "text": [
      "  0%|          | 0/1421 [00:00<?, ?it/s]"
     ]
    },
    {
     "name": "stderr",
     "output_type": "stream",
     "text": [
      "Epoch 1 Iter 1421: loss 1.65925.: 100%|██████████| 1421/1421 [04:43<00:00,  5.02it/s]"
     ]
    },
    {
     "name": "stdout",
     "output_type": "stream",
     "text": [
      "Accuracy/train 24.253952538100933\n",
      "Loss/train 1.744992083348832\n"
     ]
    },
    {
     "name": "stderr",
     "output_type": "stream",
     "text": [
      "\n"
     ]
    },
    {
     "name": "stdout",
     "output_type": "stream",
     "text": [
      "Accuracy/test 33.300168837433674\n",
      "Loss/test 1.6976338316971356\n"
     ]
    },
    {
     "name": "stderr",
     "output_type": "stream",
     "text": [
      "Epoch 2 Iter 1271: loss 1.63030.:  90%|█████████ | 1279/1421 [04:23<00:20,  7.01it/s]"
     ]
    }
   ],
   "source": [
    "classes = [\"Boxing\",\"HandClapping\",\"HandWaving\",\"Jogging\",\"Running\",\"Walking\"]\n",
    "# model = SequentialClassifierWithCells(emb_dim=128, hidden_dim=128, num_layers=2, mode=\"zeros\").to(device)\n",
    "writer = helper.new_writer(\"models\",\"LSTMscratch\")\n",
    "train = Wrapper(model = model, device = device, criterion = criterion, optimizer = optimizer,writer=writer,show_progress_bar= True)\n",
    "train.train(10,train_loader,test_loader,classes)\n",
    "writer.close()\n",
    "train.valid_accuracy()\n",
    "train.plot_loss_acc()\n"
   ]
  },
  {
   "cell_type": "code",
   "execution_count": null,
   "metadata": {},
   "outputs": [],
   "source": []
  }
 ],
 "metadata": {
  "kernelspec": {
   "display_name": "Python 3",
   "language": "python",
   "name": "python3"
  },
  "language_info": {
   "codemirror_mode": {
    "name": "ipython",
    "version": 3
   },
   "file_extension": ".py",
   "mimetype": "text/x-python",
   "name": "python",
   "nbconvert_exporter": "python",
   "pygments_lexer": "ipython3",
   "version": "3.8.10"
  }
 },
 "nbformat": 4,
 "nbformat_minor": 2
}
