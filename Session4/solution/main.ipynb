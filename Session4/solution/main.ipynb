{
 "cells": [
  {
   "cell_type": "code",
   "execution_count": 1,
   "metadata": {},
   "outputs": [],
   "source": [
    "from kth_dataset import KTH_Dataset\n",
    "from torch.utils.data import DataLoader\n",
    "import torchvision.transforms as transforms\n",
    "from LSTMscratch import LSTMscratch_GRU\n",
    "import torch\n",
    "import torch.nn as nn\n",
    "from Model_Wrapper import Wrapper\n",
    "import helper \n"
   ]
  },
  {
   "cell_type": "code",
   "execution_count": 2,
   "metadata": {},
   "outputs": [],
   "source": [
    "# Create a dataset and a DataLoader\n",
    "transforms1 = {'val':transforms.Compose([\n",
    "    transforms.Resize([32, 32]),  # Resize the image first\n",
    "    transforms.ToTensor(),        # Convert PIL image to tensor\n",
    "    transforms.Normalize(mean=[0.5], std=[0.5])  # Normalize for a single channel\n",
    "]),\n",
    "'train':transforms.Compose([\n",
    "    transforms.Resize([32, 32]),  # Resize the image first\n",
    "    # transforms.RandomHorizontalFlip(p=0.5),       # Random horizontal flip\n",
    "    transforms.ToTensor(),        # Convert PIL image to tensor\n",
    "    transforms.Normalize(mean=[0.5], std=[0.5])  # Normalize for a single channel\n",
    "])\n",
    "}\n",
    "\n",
    "\n",
    "\n",
    "# Initialize dataset\n",
    "test_dataset = KTH_Dataset(root_dir=\"/home/nfs/inf6/data/datasets/kth_actions/processed\", sequence_length=20,split=\"test\", transform=transforms1[\"val\"],use_saved_samples=False)\n",
    "train_dataset = KTH_Dataset(root_dir=\"/home/nfs/inf6/data/datasets/kth_actions/processed\", sequence_length=20,split=\"train\", transform=transforms1[\"train\"],use_saved_samples=False)\n"
   ]
  },
  {
   "cell_type": "code",
   "execution_count": 3,
   "metadata": {},
   "outputs": [
    {
     "data": {
      "text/plain": [
       "179911"
      ]
     },
     "execution_count": 3,
     "metadata": {},
     "output_type": "execute_result"
    }
   ],
   "source": [
    "train_dataset.__len__()"
   ]
  },
  {
   "cell_type": "code",
   "execution_count": 9,
   "metadata": {},
   "outputs": [
    {
     "name": "stdout",
     "output_type": "stream",
     "text": [
      "test_dataset per epoch torch.Size([128, 20, 1, 32, 32])\n"
     ]
    }
   ],
   "source": [
    "train_loader = DataLoader(train_dataset, batch_size=128, shuffle=True,num_workers=8,pin_memory=True)\n",
    "test_loader = DataLoader(test_dataset, batch_size=128, shuffle=False,num_workers=8,pin_memory=True)\n",
    "print(\"test_dataset per epoch\",next(iter(test_loader))[0].size())"
   ]
  },
  {
   "cell_type": "code",
   "execution_count": 10,
   "metadata": {},
   "outputs": [],
   "source": [
    "device = torch.device(\"cuda\" if torch.cuda.is_available() else \"cpu\")"
   ]
  },
  {
   "cell_type": "code",
   "execution_count": 11,
   "metadata": {},
   "outputs": [],
   "source": [
    "classes = [\"Boxing\",\"HandClapping\",\"HandWaving\",\"Jogging\",\"Running\",\"Walking\"]\n"
   ]
  },
  {
   "cell_type": "markdown",
   "metadata": {},
   "source": [
    "# LSTM scratch"
   ]
  },
  {
   "cell_type": "code",
   "execution_count": 8,
   "metadata": {},
   "outputs": [
    {
     "name": "stderr",
     "output_type": "stream",
     "text": [
      "  0%|          | 0/5623 [00:00<?, ?it/s]"
     ]
    },
    {
     "name": "stderr",
     "output_type": "stream",
     "text": [
      "Epoch 1 Iter 5623: loss 0.98456.: 100%|██████████| 5623/5623 [07:15<00:00, 12.91it/s]"
     ]
    },
    {
     "name": "stdout",
     "output_type": "stream",
     "text": [
      "Accuracy/train 32.31645560629145\n",
      "Loss/train 1.2696657704645558\n"
     ]
    },
    {
     "name": "stderr",
     "output_type": "stream",
     "text": [
      "\n"
     ]
    },
    {
     "name": "stdout",
     "output_type": "stream",
     "text": [
      "Accuracy/test 39.278021620742905\n",
      "Loss/test 1.2865074562352097\n"
     ]
    },
    {
     "name": "stderr",
     "output_type": "stream",
     "text": [
      "Epoch 2 Iter 5623: loss 0.62158.: 100%|██████████| 5623/5623 [07:14<00:00, 12.94it/s]"
     ]
    },
    {
     "name": "stdout",
     "output_type": "stream",
     "text": [
      "Accuracy/train 50.83004296553425\n",
      "Loss/train 0.9233534333970058\n"
     ]
    },
    {
     "name": "stderr",
     "output_type": "stream",
     "text": [
      "\n"
     ]
    },
    {
     "name": "stdout",
     "output_type": "stream",
     "text": [
      "Accuracy/test 40.99406648784849\n",
      "Loss/test 1.6728989728453953\n"
     ]
    },
    {
     "name": "stderr",
     "output_type": "stream",
     "text": [
      "Epoch 3 Iter 5623: loss 0.70062.: 100%|██████████| 5623/5623 [07:15<00:00, 12.92it/s]"
     ]
    },
    {
     "name": "stdout",
     "output_type": "stream",
     "text": [
      "Accuracy/train 57.74354397630522\n",
      "Loss/train 0.7723797063227122\n"
     ]
    },
    {
     "name": "stderr",
     "output_type": "stream",
     "text": [
      "\n"
     ]
    },
    {
     "name": "stdout",
     "output_type": "stream",
     "text": [
      "Accuracy/test 48.79805738437779\n",
      "Loss/test 1.6245171476064082\n"
     ]
    },
    {
     "name": "stderr",
     "output_type": "stream",
     "text": [
      "Epoch 4 Iter 5623: loss 0.65135.: 100%|██████████| 5623/5623 [07:20<00:00, 12.76it/s]"
     ]
    },
    {
     "name": "stdout",
     "output_type": "stream",
     "text": [
      "Accuracy/train 69.67478701507348\n",
      "Loss/train 0.5896033504568723\n"
     ]
    },
    {
     "name": "stderr",
     "output_type": "stream",
     "text": [
      "\n"
     ]
    },
    {
     "name": "stdout",
     "output_type": "stream",
     "text": [
      "Accuracy/test 50.851418353247176\n",
      "Loss/test 1.7755644416360443\n"
     ]
    },
    {
     "name": "stderr",
     "output_type": "stream",
     "text": [
      "Epoch 5 Iter 5623: loss 0.74497.: 100%|██████████| 5623/5623 [07:19<00:00, 12.81it/s]"
     ]
    },
    {
     "name": "stdout",
     "output_type": "stream",
     "text": [
      "Accuracy/train 76.24487396853313\n",
      "Loss/train 0.47672027177219606\n"
     ]
    },
    {
     "name": "stderr",
     "output_type": "stream",
     "text": [
      "\n"
     ]
    },
    {
     "name": "stdout",
     "output_type": "stream",
     "text": [
      "Accuracy/test 53.0287328293912\n",
      "Loss/test 1.863193716092824\n"
     ]
    },
    {
     "name": "stderr",
     "output_type": "stream",
     "text": [
      "Epoch 6 Iter 5623: loss 0.69104.: 100%|██████████| 5623/5623 [07:17<00:00, 12.85it/s]"
     ]
    },
    {
     "name": "stdout",
     "output_type": "stream",
     "text": [
      "Accuracy/train 79.08741379516337\n",
      "Loss/train 0.42009183862774097\n"
     ]
    },
    {
     "name": "stderr",
     "output_type": "stream",
     "text": [
      "\n"
     ]
    },
    {
     "name": "stdout",
     "output_type": "stream",
     "text": [
      "Accuracy/test 53.2867999674876\n",
      "Loss/test 1.965598208531159\n"
     ]
    },
    {
     "name": "stderr",
     "output_type": "stream",
     "text": [
      "Epoch 7 Iter 5623: loss 0.27223.: 100%|██████████| 5623/5623 [08:05<00:00, 11.57it/s]"
     ]
    },
    {
     "name": "stdout",
     "output_type": "stream",
     "text": [
      "Accuracy/train 80.87414536531219\n",
      "Loss/train 0.3830614429382631\n"
     ]
    },
    {
     "name": "stderr",
     "output_type": "stream",
     "text": [
      "\n"
     ]
    },
    {
     "name": "stdout",
     "output_type": "stream",
     "text": [
      "Accuracy/test 52.627407949280666\n",
      "Loss/test 1.8350382326613315\n"
     ]
    },
    {
     "name": "stderr",
     "output_type": "stream",
     "text": [
      "Epoch 8 Iter 5623: loss 0.53910.: 100%|██████████| 5623/5623 [07:33<00:00, 12.39it/s]"
     ]
    },
    {
     "name": "stdout",
     "output_type": "stream",
     "text": [
      "Accuracy/train 82.12214109765512\n",
      "Loss/train 0.35780634819168056\n"
     ]
    },
    {
     "name": "stderr",
     "output_type": "stream",
     "text": [
      "\n"
     ]
    },
    {
     "name": "stdout",
     "output_type": "stream",
     "text": [
      "Accuracy/test 53.644436316345605\n",
      "Loss/test 1.8420525744490353\n"
     ]
    },
    {
     "name": "stderr",
     "output_type": "stream",
     "text": [
      "Epoch 9 Iter 5623: loss 0.26140.: 100%|██████████| 5623/5623 [07:19<00:00, 12.79it/s]"
     ]
    },
    {
     "name": "stdout",
     "output_type": "stream",
     "text": [
      "Accuracy/train 83.56127816556122\n",
      "Loss/train 0.3331865538504599\n"
     ]
    },
    {
     "name": "stderr",
     "output_type": "stream",
     "text": [
      "\n"
     ]
    },
    {
     "name": "stdout",
     "output_type": "stream",
     "text": [
      "Accuracy/test 55.254815898561326\n",
      "Loss/test 1.9312920842492263\n"
     ]
    },
    {
     "name": "stderr",
     "output_type": "stream",
     "text": [
      "Epoch 10 Iter 5623: loss 0.10514.: 100%|██████████| 5623/5623 [07:17<00:00, 12.87it/s]"
     ]
    },
    {
     "name": "stdout",
     "output_type": "stream",
     "text": [
      "Accuracy/train 84.84520582451584\n",
      "Loss/train 0.3104887687758992\n"
     ]
    },
    {
     "name": "stderr",
     "output_type": "stream",
     "text": [
      "\n"
     ]
    },
    {
     "name": "stdout",
     "output_type": "stream",
     "text": [
      "Accuracy/test 52.79809802487198\n",
      "Loss/test 2.083398250236303\n",
      "Validation accuracy: 52.8%\n"
     ]
    },
    {
     "data": {
      "image/png": "[encoded data removed]",
      "text/plain": [
       "<Figure size 1600x500 with 2 Axes>"
      ]
     },
     "metadata": {},
     "output_type": "display_data"
    }
   ],
   "source": [
    "writer = helper.new_writer(\"models\",\"LSTMscratch\")\n",
    "model = LSTMscratch_GRU(input_dim=64, hidden_dim=16, number_of_layers=3,device=device,dropout=0.5).to(device)\n",
    "\n",
    "# classification loss function\n",
    "criterion = nn.CrossEntropyLoss()\n",
    "# Observe that all parameters are being optimized\n",
    "optimizer = torch.optim.Adam(model.parameters(), lr=3e-4)\n",
    "# Decay LR by a factor of 0.1 every 5 epochs\n",
    "scheduler = torch.optim.lr_scheduler.StepLR(optimizer, step_size=5, gamma=0.2)\n",
    "\n",
    "train = Wrapper(model_name=\"LSTMscratch\", model = model, device = device, criterion = criterion, optimizer = optimizer,writer=writer,show_progress_bar= True)\n",
    "train.train(10,train_loader,test_loader,classes)\n",
    "writer.close()\n",
    "train.valid_accuracy()\n",
    "train.plot_loss_acc()\n"
   ]
  },
  {
   "cell_type": "markdown",
   "metadata": {},
   "source": [
    "# LSTM using nn.lstmcell"
   ]
  },
  {
   "cell_type": "code",
   "execution_count": null,
   "metadata": {},
   "outputs": [
    {
     "name": "stderr",
     "output_type": "stream",
     "text": [
      "  0%|          | 0/1406 [00:00<?, ?it/s]"
     ]
    },
    {
     "name": "stderr",
     "output_type": "stream",
     "text": [
      "Epoch 1 Iter 1406: loss 1.07036.: 100%|██████████| 1406/1406 [06:26<00:00,  3.64it/s]"
     ]
    },
    {
     "name": "stdout",
     "output_type": "stream",
     "text": [
      "Accuracy/train 29.60067342040108\n",
      "Loss/train 1.3389764801197677\n"
     ]
    },
    {
     "name": "stderr",
     "output_type": "stream",
     "text": [
      "\n"
     ]
    },
    {
     "name": "stdout",
     "output_type": "stream",
     "text": [
      "Accuracy/test 38.135007721693896\n",
      "Loss/test 1.6691018549921608\n"
     ]
    },
    {
     "name": "stderr",
     "output_type": "stream",
     "text": [
      "Epoch 2 Iter 1406: loss 0.90775.: 100%|██████████| 1406/1406 [06:28<00:00,  3.62it/s]"
     ]
    },
    {
     "name": "stdout",
     "output_type": "stream",
     "text": [
      "Accuracy/train 50.92198847001642\n",
      "Loss/train 0.9459958154056354\n"
     ]
    },
    {
     "name": "stderr",
     "output_type": "stream",
     "text": [
      "\n"
     ]
    },
    {
     "name": "stdout",
     "output_type": "stream",
     "text": [
      "Accuracy/test 40.45049987807852\n",
      "Loss/test 1.842761604805684\n"
     ]
    },
    {
     "name": "stderr",
     "output_type": "stream",
     "text": [
      "Epoch 3 Iter 1406: loss 0.85156.: 100%|██████████| 1406/1406 [06:30<00:00,  3.60it/s]"
     ]
    },
    {
     "name": "stdout",
     "output_type": "stream",
     "text": [
      "Accuracy/train 54.87945148565911\n",
      "Loss/train 0.8653290349338336\n"
     ]
    },
    {
     "name": "stderr",
     "output_type": "stream",
     "text": [
      "\n"
     ]
    }
   ],
   "source": [
    "writer = helper.new_writer(\"models\",\"LSTM\")\n",
    "model_1 = LSTMscratch_GRU(input_dim=64, hidden_dim=16, number_of_layers=2,device=device,use_custom=False,dropout = 0.5).to(device)\n",
    "\n",
    "# classification loss function\n",
    "criterion = nn.CrossEntropyLoss()\n",
    "# Observe that all parameters are being optimized\n",
    "optimizer = torch.optim.Adam(model_1.parameters(), lr=3e-4)\n",
    "# Decay LR by a factor of 0.1 every 5 epochs\n",
    "scheduler = torch.optim.lr_scheduler.StepLR(optimizer, step_size=5, gamma=0.2)\n",
    "\n",
    "train = Wrapper(model_name=\"LSTMcell\", model = model_1, device = device, criterion = criterion, optimizer = optimizer,writer=writer,show_progress_bar= True)\n",
    "train.train(10,train_loader,test_loader,classes)\n",
    "writer.close()\n",
    "train.valid_accuracy()\n",
    "train.plot_loss_acc()\n"
   ]
  },
  {
   "cell_type": "markdown",
   "metadata": {},
   "source": [
    "# CONV LSTM "
   ]
  },
  {
   "cell_type": "code",
   "execution_count": null,
   "metadata": {},
   "outputs": [],
   "source": [
    "from ConvLSTMscratch import ConvLSTM\n",
    "\n",
    "model = ConvLSTM(input_dim=1, hidden_dim=4, kernel_size=3, num_layers=2,batch_first=True).to(device)\n",
    "\n",
    "criterion = nn.CrossEntropyLoss()\n",
    "optimizer = torch.optim.Adam(model.parameters(), lr=3e-4)\n",
    "scheduler = torch.optim.lr_scheduler.StepLR(optimizer, step_size=5, gamma=0.2)\n",
    "classes = [\"Boxing\",\"HandClapping\",\"HandWaving\",\"Jogging\",\"Running\",\"Walking\"]\n",
    "writer = helper.new_writer(\"models\",\"ConvLSTMscratch\")\n",
    "train = Wrapper(model_name=\"ConvLSTM\", model = model, device = device, criterion = criterion, optimizer = optimizer,writer=writer,show_progress_bar= True)\n",
    "train.train(10,train_loader,test_loader,classes)\n",
    "writer.close()\n",
    "train.valid_accuracy()\n",
    "train.plot_loss_acc()\n"
   ]
  },
  {
   "cell_type": "markdown",
   "metadata": {},
   "source": [
    "<img src=\"/home/user/elwakeely1/Cuda_Vision_Lab-/Session4/solution/Convlstmmodel.png\" alt=\"Convlstmmodel\" style=\"width:1000px;\">\n"
   ]
  },
  {
   "cell_type": "markdown",
   "metadata": {},
   "source": [
    "# 3D_ResNet "
   ]
  },
  {
   "cell_type": "code",
   "execution_count": null,
   "metadata": {},
   "outputs": [
    {
     "name": "stderr",
     "output_type": "stream",
     "text": [
      "/home/user/elwakeely1/.local/lib/python3.8/site-packages/torchvision/models/_utils.py:208: UserWarning: The parameter 'pretrained' is deprecated since 0.13 and may be removed in the future, please use 'weights' instead.\n",
      "  warnings.warn(\n",
      "/home/user/elwakeely1/.local/lib/python3.8/site-packages/torchvision/models/_utils.py:223: UserWarning: Arguments other than a weight enum or `None` for 'weights' are deprecated since 0.13 and may be removed in the future. The current behavior is equivalent to passing `weights=R3D_18_Weights.KINETICS400_V1`. You can also use `weights=R3D_18_Weights.DEFAULT` to get the most up-to-date weights.\n",
      "  warnings.warn(msg)\n",
      "Downloading: \"https://download.pytorch.org/models/r3d_18-b3b3357e.pth\" to /home/user/elwakeely1/.cache/torch/hub/checkpoints/r3d_18-b3b3357e.pth\n",
      "100%|██████████| 127M/127M [00:01<00:00, 68.7MB/s] \n"
     ]
    },
    {
     "ename": "NameError",
     "evalue": "name 'device' is not defined",
     "output_type": "error",
     "traceback": [
      "\u001b[0;31m---------------------------------------------------------------------------\u001b[0m",
      "\u001b[0;31mNameError\u001b[0m                                 Traceback (most recent call last)",
      "Cell \u001b[0;32mIn[3], line 3\u001b[0m\n\u001b[1;32m      1\u001b[0m \u001b[38;5;28;01mimport\u001b[39;00m \u001b[38;5;21;01mtorchvision\u001b[39;00m\u001b[38;5;21;01m.\u001b[39;00m\u001b[38;5;21;01mmodels\u001b[39;00m \u001b[38;5;28;01mas\u001b[39;00m \u001b[38;5;21;01mmodels\u001b[39;00m\n\u001b[0;32m----> 3\u001b[0m model \u001b[38;5;241m=\u001b[39m models\u001b[38;5;241m.\u001b[39mvideo\u001b[38;5;241m.\u001b[39mr3d_18(pretrained\u001b[38;5;241m=\u001b[39m\u001b[38;5;28;01mTrue\u001b[39;00m)\u001b[38;5;241m.\u001b[39mto(\u001b[43mdevice\u001b[49m)\n\u001b[1;32m      5\u001b[0m \u001b[38;5;66;03m# Modify the final layer to match the number of classes to 6 for KTH Actions\u001b[39;00m\n\u001b[1;32m      6\u001b[0m model\u001b[38;5;241m.\u001b[39mfc \u001b[38;5;241m=\u001b[39m nn\u001b[38;5;241m.\u001b[39mLinear(model\u001b[38;5;241m.\u001b[39mfc\u001b[38;5;241m.\u001b[39min_features, \u001b[38;5;241m6\u001b[39m)\n",
      "\u001b[0;31mNameError\u001b[0m: name 'device' is not defined"
     ]
    }
   ],
   "source": [
    "import torchvision.models as models\n",
    "\n",
    "model = models.video.r3d_18(pretrained=True).to(device)\n",
    "\n",
    "# Modify the final layer to match the number of classes to 6 for KTH Actions\n",
    "model.fc = nn.Linear(model.fc.in_features, 6)\n",
    "\n",
    "print(model)\n",
    "\n",
    "# classification loss function\n",
    "criterion = nn.CrossEntropyLoss()\n",
    "# Observe that all parameters are being optimized\n",
    "optimizer = torch.optim.Adam(model_1.parameters(), lr=3e-4)\n",
    "# Decay LR by a factor of 0.1 every 5 epochs\n",
    "scheduler = torch.optim.lr_scheduler.StepLR(optimizer, step_size=5, gamma=0.2)\n",
    "\n",
    "writer = helper.new_writer(\"models\",\"3D_ResNet\")\n",
    "train = Wrapper(model_name=\"3D_ResNet\", model = model_1, device = device, criterion = criterion, optimizer = optimizer,writer=writer,show_progress_bar= True)\n",
    "\n",
    "train.train(10,train_loader,test_loader,classes)\n",
    "\n",
    "writer.close()\n",
    "\n",
    "train.valid_accuracy()\n",
    "train.plot_loss_acc()\n"
   ]
  },
  {
   "cell_type": "markdown",
   "metadata": {},
   "source": [
    "# GRU model "
   ]
  },
  {
   "cell_type": "code",
   "execution_count": 12,
   "metadata": {},
   "outputs": [
    {
     "name": "stderr",
     "output_type": "stream",
     "text": [
      "  0%|          | 0/1406 [00:00<?, ?it/s]"
     ]
    },
    {
     "name": "stderr",
     "output_type": "stream",
     "text": [
      "Epoch 1 Iter 1406: loss 1.10109.: 100%|██████████| 1406/1406 [06:28<00:00,  3.62it/s]"
     ]
    },
    {
     "name": "stdout",
     "output_type": "stream",
     "text": [
      "Accuracy/train 31.51749738933777\n",
      "Loss/train 1.302529420486385\n"
     ]
    },
    {
     "name": "stderr",
     "output_type": "stream",
     "text": [
      "\n"
     ]
    },
    {
     "name": "stdout",
     "output_type": "stream",
     "text": [
      "Accuracy/test 36.559172559538325\n",
      "Loss/test 1.5490565256195044\n"
     ]
    },
    {
     "name": "stderr",
     "output_type": "stream",
     "text": [
      "Epoch 2 Iter 1406: loss 0.79821.: 100%|██████████| 1406/1406 [06:24<00:00,  3.65it/s]"
     ]
    },
    {
     "name": "stdout",
     "output_type": "stream",
     "text": [
      "Accuracy/train 48.94475017388344\n",
      "Loss/train 0.9812750389447084\n"
     ]
    },
    {
     "name": "stderr",
     "output_type": "stream",
     "text": [
      "\n"
     ]
    },
    {
     "name": "stdout",
     "output_type": "stream",
     "text": [
      "Accuracy/test 39.17743639762659\n",
      "Loss/test 1.9793148316123241\n"
     ]
    },
    {
     "name": "stderr",
     "output_type": "stream",
     "text": [
      "Epoch 3 Iter 1406: loss 0.84274.: 100%|██████████| 1406/1406 [06:22<00:00,  3.68it/s]"
     ]
    },
    {
     "name": "stdout",
     "output_type": "stream",
     "text": [
      "Accuracy/train 53.5032555262667\n",
      "Loss/train 0.8952387437372764\n"
     ]
    },
    {
     "name": "stderr",
     "output_type": "stream",
     "text": [
      "\n"
     ]
    },
    {
     "name": "stdout",
     "output_type": "stream",
     "text": [
      "Accuracy/test 40.4291636186296\n",
      "Loss/test 2.0892716262475024\n"
     ]
    },
    {
     "name": "stderr",
     "output_type": "stream",
     "text": [
      "Epoch 4 Iter 1406: loss 0.97571.: 100%|██████████| 1406/1406 [06:27<00:00,  3.63it/s]"
     ]
    },
    {
     "name": "stdout",
     "output_type": "stream",
     "text": [
      "Accuracy/train 56.38359394850831\n",
      "Loss/train 0.8539268709348242\n"
     ]
    },
    {
     "name": "stderr",
     "output_type": "stream",
     "text": [
      "\n"
     ]
    },
    {
     "name": "stdout",
     "output_type": "stream",
     "text": [
      "Accuracy/test 42.323010647809475\n",
      "Loss/test 1.9039866055406736\n"
     ]
    },
    {
     "name": "stderr",
     "output_type": "stream",
     "text": [
      "Epoch 5 Iter 1406: loss 0.81789.: 100%|██████████| 1406/1406 [06:23<00:00,  3.66it/s]"
     ]
    },
    {
     "name": "stdout",
     "output_type": "stream",
     "text": [
      "Accuracy/train 58.67783218410412\n",
      "Loss/train 0.804993092717012\n"
     ]
    },
    {
     "name": "stderr",
     "output_type": "stream",
     "text": [
      "\n"
     ]
    },
    {
     "name": "stdout",
     "output_type": "stream",
     "text": [
      "Accuracy/test 43.55136958465415\n",
      "Loss/test 1.6024039154230425\n"
     ]
    },
    {
     "name": "stderr",
     "output_type": "stream",
     "text": [
      "Epoch 6 Iter 1406: loss 0.68688.: 100%|██████████| 1406/1406 [06:31<00:00,  3.60it/s]"
     ]
    },
    {
     "name": "stdout",
     "output_type": "stream",
     "text": [
      "Accuracy/train 61.9816158527233\n",
      "Loss/train 0.7559569154999843\n"
     ]
    },
    {
     "name": "stderr",
     "output_type": "stream",
     "text": [
      "\n"
     ]
    },
    {
     "name": "stdout",
     "output_type": "stream",
     "text": [
      "Accuracy/test 43.17646102576607\n",
      "Loss/test 1.7178009694284107\n"
     ]
    },
    {
     "name": "stderr",
     "output_type": "stream",
     "text": [
      "Epoch 7 Iter 1406: loss 0.89267.: 100%|██████████| 1406/1406 [06:24<00:00,  3.66it/s]"
     ]
    },
    {
     "name": "stdout",
     "output_type": "stream",
     "text": [
      "Accuracy/train 64.37784634635831\n",
      "Loss/train 0.7127517814698973\n"
     ]
    },
    {
     "name": "stderr",
     "output_type": "stream",
     "text": [
      "\n"
     ]
    },
    {
     "name": "stdout",
     "output_type": "stream",
     "text": [
      "Accuracy/test 42.65118263838088\n",
      "Loss/test 1.998464850845846\n"
     ]
    },
    {
     "name": "stderr",
     "output_type": "stream",
     "text": [
      "Epoch 8 Iter 1406: loss 0.62979.: 100%|██████████| 1406/1406 [06:22<00:00,  3.68it/s]"
     ]
    },
    {
     "name": "stdout",
     "output_type": "stream",
     "text": [
      "Accuracy/train 65.61453655787858\n",
      "Loss/train 0.6834788647179583\n"
     ]
    },
    {
     "name": "stderr",
     "output_type": "stream",
     "text": [
      "\n"
     ]
    },
    {
     "name": "stdout",
     "output_type": "stream",
     "text": [
      "Accuracy/test 42.863529220515325\n",
      "Loss/test 1.9924827644342018\n"
     ]
    },
    {
     "name": "stderr",
     "output_type": "stream",
     "text": [
      "Epoch 9 Iter 1406: loss 0.64910.: 100%|██████████| 1406/1406 [06:29<00:00,  3.61it/s]"
     ]
    },
    {
     "name": "stdout",
     "output_type": "stream",
     "text": [
      "Accuracy/train 67.42835553209738\n",
      "Loss/train 0.6584079983520983\n"
     ]
    },
    {
     "name": "stderr",
     "output_type": "stream",
     "text": [
      "\n"
     ]
    },
    {
     "name": "stdout",
     "output_type": "stream",
     "text": [
      "Accuracy/test 45.234902056409005\n",
      "Loss/test 1.7162757274904057\n"
     ]
    },
    {
     "name": "stderr",
     "output_type": "stream",
     "text": [
      "Epoch 10 Iter 1406: loss 0.68681.: 100%|██████████| 1406/1406 [06:25<00:00,  3.65it/s]"
     ]
    },
    {
     "name": "stdout",
     "output_type": "stream",
     "text": [
      "Accuracy/train 68.72067286191405\n",
      "Loss/train 0.6373766664929614\n"
     ]
    },
    {
     "name": "stderr",
     "output_type": "stream",
     "text": [
      "\n"
     ]
    },
    {
     "name": "stdout",
     "output_type": "stream",
     "text": [
      "Accuracy/test 44.40786799967488\n",
      "Loss/test 1.9434200766245724\n",
      "Validation accuracy: 44.41%\n"
     ]
    },
    {
     "data": {
      "image/png": "[encoded data removed]",
      "text/plain": [
       "<Figure size 1600x500 with 2 Axes>"
      ]
     },
     "metadata": {},
     "output_type": "display_data"
    }
   ],
   "source": [
    "writer = helper.new_writer(\"models\",\"GRU\")\n",
    "model_1 = LSTMscratch_GRU(input_dim=64, hidden_dim=16, number_of_layers=2,device=device,GRU=True,dropout=0.5).to(device)\n",
    "\n",
    "# classification loss function\n",
    "criterion = nn.CrossEntropyLoss()\n",
    "# Observe that all parameters are being optimized\n",
    "optimizer = torch.optim.Adam(model_1.parameters(), lr=3e-4)\n",
    "# Decay LR by a factor of 0.1 every 5 epochs\n",
    "scheduler = torch.optim.lr_scheduler.StepLR(optimizer, step_size=5, gamma=0.2)\n",
    "\n",
    "train = Wrapper(model_name=\"LSTMcell\", model = model_1, device = device, criterion = criterion, optimizer = optimizer,writer=writer,show_progress_bar= True)\n",
    "train.train(10,train_loader,test_loader,classes)\n",
    "writer.close()\n",
    "train.valid_accuracy()\n",
    "train.plot_loss_acc()"
   ]
  },
  {
   "cell_type": "markdown",
   "metadata": {},
   "source": [
    "The ConvLSTM achieved the best results on the KTH Action Dataset because it combines convolutional layers with LSTM mechanisms. The convolutional layers are excellent for extracting spatial features (like textures and shapes in video frames), while the LSTMs handle temporal patterns, such as motion across frames. This combination makes ConvLSTMs especially effective for action recognition, where understanding both appearance and movement is crucial.\n",
    "\n",
    "In contrast:\n",
    "\n",
    "-GRU performed well but didn't capture spatial patterns as effectively because it lacks built-in convolutional layers.\n",
    "-The standard LSTM also struggled with spatial information, as it’s not designed to process structured data like images -directly.\n",
    "\n",
    "ConvLSTM's ability to process both spatial and temporal information makes it more suited for tasks involving motion analysis."
   ]
  }
 ],
 "metadata": {
  "kernelspec": {
   "display_name": "Python 3",
   "language": "python",
   "name": "python3"
  },
  "language_info": {
   "codemirror_mode": {
    "name": "ipython",
    "version": 3
   },
   "file_extension": ".py",
   "mimetype": "text/x-python",
   "name": "python",
   "nbconvert_exporter": "python",
   "pygments_lexer": "ipython3",
   "version": "3.8.10"
  }
 },
 "nbformat": 4,
 "nbformat_minor": 2
}
