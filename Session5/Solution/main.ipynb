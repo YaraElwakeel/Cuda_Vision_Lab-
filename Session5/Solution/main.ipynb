{
 "cells": [
  {
   "cell_type": "code",
   "execution_count": 41,
   "metadata": {},
   "outputs": [],
   "source": [
    "from Dataset import Dataset\n",
    "from torch.utils.data import DataLoader\n",
    "import torchvision.transforms as transforms\n",
    "import torch\n",
    "import torch.nn as nn\n",
    "# import helper "
   ]
  },
  {
   "cell_type": "code",
   "execution_count": 42,
   "metadata": {},
   "outputs": [
    {
     "name": "stdout",
     "output_type": "stream",
     "text": [
      "The autoreload extension is already loaded. To reload it, use:\n",
      "  %reload_ext autoreload\n"
     ]
    }
   ],
   "source": [
    "%load_ext autoreload\n",
    "%autoreload 2"
   ]
  },
  {
   "cell_type": "code",
   "execution_count": 43,
   "metadata": {},
   "outputs": [],
   "source": [
    "# !bash download.sh afhq-dataset"
   ]
  },
  {
   "cell_type": "code",
   "execution_count": 44,
   "metadata": {},
   "outputs": [],
   "source": [
    "# Create a dataset and a DataLoader\n",
    "transforms = {'val':transforms.Compose([\n",
    "    transforms.Resize([32, 32]),  # Resize the image first\n",
    "    transforms.ToTensor(),        # Convert PIL image to tensor\n",
    "]),\n",
    "'train':transforms.Compose([\n",
    "    transforms.Resize([32, 32]),  # Resize the image first\n",
    "    # transforms.RandomHorizontalFlip(p=0.5),       # Random horizontal flip\n",
    "    transforms.ToTensor(),        # Convert PIL image to tensor\n",
    "    # transforms.Normalize(mean=[0.5], std=[0.5])  # Normalize for a single channel\n",
    "])\n",
    "}\n",
    "\n",
    "\n",
    "root_dir = \"/home/user/elwakeely1/Cuda_Vision_Lab-/Session5/Solution/data/afhq\"\n",
    "\n",
    "# Initialize dataset\n",
    "train_dataset = Dataset(root_dir=root_dir, split=\"train\", transform=transforms[\"train\"])\n",
    "test_dataset = Dataset(root_dir=root_dir, split=\"val\", transform=transforms[\"val\"])\n"
   ]
  },
  {
   "cell_type": "code",
   "execution_count": 48,
   "metadata": {},
   "outputs": [
    {
     "name": "stdout",
     "output_type": "stream",
     "text": [
      "train size: 14630\n",
      "test size: 1500\n"
     ]
    }
   ],
   "source": [
    "print(f\"train size: {train_dataset.__len__()}\\ntest size: {test_dataset.__len__()}\")\n",
    "\n",
    "\n"
   ]
  },
  {
   "cell_type": "code",
   "execution_count": null,
   "metadata": {},
   "outputs": [],
   "source": []
  }
 ],
 "metadata": {
  "kernelspec": {
   "display_name": "Python 3",
   "language": "python",
   "name": "python3"
  },
  "language_info": {
   "codemirror_mode": {
    "name": "ipython",
    "version": 3
   },
   "file_extension": ".py",
   "mimetype": "text/x-python",
   "name": "python",
   "nbconvert_exporter": "python",
   "pygments_lexer": "ipython3",
   "version": "3.8.10"
  }
 },
 "nbformat": 4,
 "nbformat_minor": 2
}
