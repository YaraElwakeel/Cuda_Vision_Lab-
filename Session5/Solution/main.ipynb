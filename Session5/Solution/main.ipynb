{
 "cells": [
  {
   "cell_type": "code",
   "execution_count": 122,
   "metadata": {},
   "outputs": [],
   "source": [
    "from Dataset import Dataset\n",
    "from torch.utils.data import DataLoader\n",
    "import torchvision.transforms as transforms\n",
    "import torch\n",
    "import torch.nn as nn\n",
    "import torch.nn.functional as F\n",
    "import VAE\n",
    "from Model_Wrapper import Wrapper\n",
    "import helper\n",
    "# import helper "
   ]
  },
  {
   "cell_type": "code",
   "execution_count": 123,
   "metadata": {},
   "outputs": [
    {
     "name": "stdout",
     "output_type": "stream",
     "text": [
      "The autoreload extension is already loaded. To reload it, use:\n",
      "  %reload_ext autoreload\n"
     ]
    }
   ],
   "source": [
    "%load_ext autoreload\n",
    "%autoreload 2"
   ]
  },
  {
   "cell_type": "code",
   "execution_count": 124,
   "metadata": {},
   "outputs": [],
   "source": [
    "# !bash download.sh afhq-dataset"
   ]
  },
  {
   "cell_type": "code",
   "execution_count": 125,
   "metadata": {},
   "outputs": [],
   "source": [
    "# Create a dataset and a DataLoader\n",
    "transforms = {'val':transforms.Compose([\n",
    "    transforms.Resize([32, 32]),  # Resize the image first\n",
    "    transforms.ToTensor(),        # Convert PIL image to tensor\n",
    "]),\n",
    "'train':transforms.Compose([\n",
    "    transforms.Resize([32, 32]),  # Resize the image first\n",
    "    # transforms.RandomHorizontalFlip(p=0.5),       # Random horizontal flip\n",
    "    transforms.ToTensor(),        # Convert PIL image to tensor\n",
    "    # transforms.Normalize(mean=[0.5], std=[0.5])  # Normalize for a single channel\n",
    "])\n",
    "}\n",
    "\n",
    "\n",
    "root_dir = \"/home/user/elwakeely1/Cuda_Vision_Lab-/Session5/Solution/data/afhq\"\n",
    "\n",
    "# Initialize dataset\n",
    "train_dataset = Dataset(root_dir=root_dir, split=\"train\", transform=transforms[\"train\"])\n",
    "test_dataset = Dataset(root_dir=root_dir, split=\"val\", transform=transforms[\"val\"])\n"
   ]
  },
  {
   "cell_type": "code",
   "execution_count": 126,
   "metadata": {},
   "outputs": [
    {
     "name": "stdout",
     "output_type": "stream",
     "text": [
      "train size: 14630\n",
      "test size: 1500\n"
     ]
    }
   ],
   "source": [
    "print(f\"train size: {train_dataset.__len__()}\\ntest size: {test_dataset.__len__()}\")"
   ]
  },
  {
   "cell_type": "code",
   "execution_count": 127,
   "metadata": {},
   "outputs": [
    {
     "name": "stdout",
     "output_type": "stream",
     "text": [
      "test_dataset per epoch torch.Size([32, 1, 32, 32])\n"
     ]
    }
   ],
   "source": [
    "train_loader = DataLoader(train_dataset, batch_size=32, shuffle=True,num_workers=8,pin_memory=True)\n",
    "test_loader = DataLoader(test_dataset, batch_size=32, shuffle=False,num_workers=8,pin_memory=True)\n",
    "print(\"test_dataset per epoch\",next(iter(test_loader))[0].size())"
   ]
  },
  {
   "cell_type": "code",
   "execution_count": 128,
   "metadata": {},
   "outputs": [],
   "source": [
    "device = torch.device(\"cuda\" if torch.cuda.is_available() else \"cpu\")"
   ]
  },
  {
   "cell_type": "code",
   "execution_count": 129,
   "metadata": {},
   "outputs": [],
   "source": [
    "classes = [\"cat\",\"dog\",\"wild\"]\n"
   ]
  },
  {
   "cell_type": "code",
   "execution_count": 130,
   "metadata": {},
   "outputs": [],
   "source": [
    "def vae_loss_function(recons, target, mu, log_var, lambda_kld=1e-3):\n",
    "    # \"\"\"\n",
    "    #     Combined loss function for joint optimization of \n",
    "    #     reconstruction and ELBO\n",
    "    #     \"\"\"\n",
    "        recons_loss = F.mse_loss(recons, target)\n",
    "        kld = (-0.5 * (1 + log_var - mu**2 - log_var.exp()).sum(dim=1)).mean(dim=0)  # closed-form solution of KLD in Gaussian\n",
    "        loss = recons_loss + lambda_kld * kld\n",
    "        return loss, (recons_loss, kld)"
   ]
  },
  {
   "cell_type": "code",
   "execution_count": 132,
   "metadata": {},
   "outputs": [],
   "source": [
    "vae = VAE.VanillaVAE(in_size=(1,32,32), sizes=[1024, 256, 128, 64, 2], act=\"ReLU\")\n",
    "vae = vae.to(device)"
   ]
  },
  {
   "cell_type": "code",
   "execution_count": 133,
   "metadata": {},
   "outputs": [],
   "source": [
    "optimizer = torch.optim.Adam(vae.parameters(), lr=3e-3)\n",
    "# Decay LR by a factor of 10 after 5 epochs with no improvement\n",
    "scheduler = torch.optim.lr_scheduler.ReduceLROnPlateau(optimizer, patience=5, factor=0.1, verbose=True)"
   ]
  },
  {
   "cell_type": "code",
   "execution_count": 134,
   "metadata": {},
   "outputs": [
    {
     "name": "stderr",
     "output_type": "stream",
     "text": [
      "  0%|          | 0/458 [00:00<?, ?it/s]"
     ]
    },
    {
     "name": "stderr",
     "output_type": "stream",
     "text": [
      "Epoch 1 Iter 458: loss 0.04046.: 100%|██████████| 458/458 [00:05<00:00, 79.76it/s] "
     ]
    },
    {
     "name": "stdout",
     "output_type": "stream",
     "text": [
      "Loss/train 0.04011714349065675\n"
     ]
    },
    {
     "name": "stderr",
     "output_type": "stream",
     "text": [
      "\n"
     ]
    },
    {
     "name": "stdout",
     "output_type": "stream",
     "text": [
      "Loss/test 0.03626453016508133\n",
      "Loss/test 0.03252716750857678\n",
      "Loss/test 3.737362668869343\n"
     ]
    },
    {
     "name": "stderr",
     "output_type": "stream",
     "text": [
      "Epoch 2 Iter 458: loss 0.03252.: 100%|██████████| 458/458 [00:05<00:00, 88.34it/s] "
     ]
    },
    {
     "name": "stdout",
     "output_type": "stream",
     "text": [
      "Loss/train 0.036506052096435336\n"
     ]
    },
    {
     "name": "stderr",
     "output_type": "stream",
     "text": [
      "\n"
     ]
    },
    {
     "name": "stdout",
     "output_type": "stream",
     "text": [
      "Loss/test 0.035939591718797986\n",
      "Loss/test 0.03301672268896661\n",
      "Loss/test 2.922868804728731\n"
     ]
    }
   ],
   "source": [
    "writer = helper.new_writer(\"models\",\"ConvLSTMscratch\")\n",
    "train = Wrapper(model_name=\"VanillaVAE\", model = vae, device = device, criterion = vae_loss_function, optimizer = optimizer,writer=writer,show_progress_bar= True)\n",
    "train.train(2,train_loader,test_loader)\n",
    "writer.close()"
   ]
  }
 ],
 "metadata": {
  "kernelspec": {
   "display_name": "Python 3",
   "language": "python",
   "name": "python3"
  },
  "language_info": {
   "codemirror_mode": {
    "name": "ipython",
    "version": 3
   },
   "file_extension": ".py",
   "mimetype": "text/x-python",
   "name": "python",
   "nbconvert_exporter": "python",
   "pygments_lexer": "ipython3",
   "version": "3.8.10"
  }
 },
 "nbformat": 4,
 "nbformat_minor": 2
}
