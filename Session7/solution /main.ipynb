{
 "cells": [
  {
   "cell_type": "code",
   "execution_count": 34,
   "metadata": {},
   "outputs": [],
   "source": [
    "from sklearn.datasets import fetch_lfw_pairs\n",
    "import torch\n",
    "# from torch.utils.data import Dataset\n",
    "from torchvision import transforms , datasets\n",
    "from Dataset import LFWtripletDataset\n"
   ]
  },
  {
   "cell_type": "code",
   "execution_count": 35,
   "metadata": {},
   "outputs": [
    {
     "name": "stdout",
     "output_type": "stream",
     "text": [
      "The autoreload extension is already loaded. To reload it, use:\n",
      "  %reload_ext autoreload\n"
     ]
    }
   ],
   "source": [
    "%load_ext autoreload\n",
    "%autoreload 2"
   ]
  },
  {
   "cell_type": "code",
   "execution_count": 36,
   "metadata": {},
   "outputs": [
    {
     "name": "stdout",
     "output_type": "stream",
     "text": [
      "                                     name  \\\n",
      "0                            Abel_Pacheco   \n",
      "1                          Akhmed_Zakayev   \n",
      "2                          Akhmed_Zakayev   \n",
      "3                           Amber_Tamblyn   \n",
      "4                   Anders_Fogh_Rasmussen   \n",
      "...                                   ...   \n",
      "5995                           Scott_Wolf   \n",
      "5996  Sergei_Alexandrovitch_Ordzhonikidze   \n",
      "5997                           Shane_Loux   \n",
      "5998                         Shawn_Marion   \n",
      "5999                   Slobodan_Milosevic   \n",
      "\n",
      "                                         imagenum1              imagenum2  \\\n",
      "0                            Abel_Pacheco_0001.jpg           Abel_Pacheco   \n",
      "1                          Akhmed_Zakayev_0001.jpg         Akhmed_Zakayev   \n",
      "2                          Akhmed_Zakayev_0002.jpg         Akhmed_Zakayev   \n",
      "3                           Amber_Tamblyn_0001.jpg          Amber_Tamblyn   \n",
      "4                   Anders_Fogh_Rasmussen_0001.jpg  Anders_Fogh_Rasmussen   \n",
      "...                                            ...                    ...   \n",
      "5995                           Scott_Wolf_0002.jpg          Troy_Polamalu   \n",
      "5996  Sergei_Alexandrovitch_Ordzhonikidze_0001.jpg           Yolanda_King   \n",
      "5997                           Shane_Loux_0001.jpg           Val_Ackerman   \n",
      "5998                         Shawn_Marion_0001.jpg          Shirley_Jones   \n",
      "5999                   Slobodan_Milosevic_0002.jpg                 Sok_An   \n",
      "\n",
      "                          Unnamed: 3  \n",
      "0              Abel_Pacheco_0004.jpg  \n",
      "1            Akhmed_Zakayev_0003.jpg  \n",
      "2            Akhmed_Zakayev_0003.jpg  \n",
      "3             Amber_Tamblyn_0002.jpg  \n",
      "4     Anders_Fogh_Rasmussen_0003.jpg  \n",
      "...                              ...  \n",
      "5995          Troy_Polamalu_0001.jpg  \n",
      "5996           Yolanda_King_0001.jpg  \n",
      "5997           Val_Ackerman_0001.jpg  \n",
      "5998          Shirley_Jones_0001.jpg  \n",
      "5999                 Sok_An_0001.jpg  \n",
      "\n",
      "[6000 rows x 4 columns]\n"
     ]
    }
   ],
   "source": [
    "# transforms = transforms.Compose([\n",
    "#     transforms.ToTensor()    # Convert PIL image to tensor\n",
    "# ])\n",
    "\n",
    "root_dir = \"data/lfw-py\"\n",
    "\n",
    "# Initialize dataset\n",
    "train_dataset = LFWtripletDataset(root_dir=root_dir, split=\"train\", transform=None)\n",
    "# test_dataset = LFWtripletDataset(root_dir=root_dir, split=\"val\", transform=transforms)"
   ]
  },
  {
   "cell_type": "code",
   "execution_count": null,
   "metadata": {},
   "outputs": [],
   "source": []
  },
  {
   "cell_type": "markdown",
   "metadata": {},
   "source": [
    "6,000 pairs → 12,000 images (2 images per pair) \n",
    "\n",
    "Each pair has a label indicating whether the two images are from the same person (1) or different people (0)."
   ]
  }
 ],
 "metadata": {
  "kernelspec": {
   "display_name": "Python 3",
   "language": "python",
   "name": "python3"
  },
  "language_info": {
   "codemirror_mode": {
    "name": "ipython",
    "version": 3
   },
   "file_extension": ".py",
   "mimetype": "text/x-python",
   "name": "python",
   "nbconvert_exporter": "python",
   "pygments_lexer": "ipython3",
   "version": "3.8.10"
  }
 },
 "nbformat": 4,
 "nbformat_minor": 2
}
