{
 "cells": [
  {
   "cell_type": "code",
   "execution_count": 2,
   "id": "158df67b-f3ed-45df-a042-e54b411758cb",
   "metadata": {},
   "outputs": [],
   "source": [
    "import torch\n",
    "import numpy as np\n",
    "import torchvision\n",
    "import torchvision.transforms as transforms\n",
    "import seaborn as sn\n",
    "from tqdm import tqdm\n",
    "from Model_Wrapper import Wrapper\n",
    "import matplotlib.pyplot as plt\n",
    "import torch.nn.functional as F\n",
    "from Datasets import dataset "
   ]
  },
  {
   "cell_type": "code",
   "execution_count": 3,
   "id": "47921c2e-fbf1-49f8-8d7a-326821be1254",
   "metadata": {},
   "outputs": [],
   "source": [
    "transform = transforms.Compose([\n",
    "    transforms.ToTensor(),\n",
    "    transforms.Normalize((0.5, 0.5, 0.5), (0.5, 0.5, 0.5))\n",
    "])"
   ]
  },
  {
   "cell_type": "code",
   "execution_count": 4,
   "id": "5c73fff5-49c4-4a63-b2f0-7e6cfcc26057",
   "metadata": {},
   "outputs": [],
   "source": [
    "dataset =dataset(\"images/\",transform=transform)\n",
    "classes = (\"Robots\", \"Humans\")"
   ]
  },
  {
   "cell_type": "code",
   "execution_count": 5,
   "id": "afa92731-db05-486e-8672-c7f5ce61bcab",
   "metadata": {},
   "outputs": [
    {
     "data": {
      "text/plain": [
       "460"
      ]
     },
     "execution_count": 5,
     "metadata": {},
     "output_type": "execute_result"
    }
   ],
   "source": [
    "dataset.__len__()"
   ]
  },
  {
   "cell_type": "code",
   "execution_count": null,
   "id": "4e987a78-fb37-4d26-a5d0-25e8570258a2",
   "metadata": {},
   "outputs": [],
   "source": []
  }
 ],
 "metadata": {
  "kernelspec": {
   "display_name": "Python 3 (ipykernel)",
   "language": "python",
   "name": "python3"
  },
  "language_info": {
   "codemirror_mode": {
    "name": "ipython",
    "version": 3
   },
   "file_extension": ".py",
   "mimetype": "text/x-python",
   "name": "python",
   "nbconvert_exporter": "python",
   "pygments_lexer": "ipython3",
   "version": "3.11.7"
  }
 },
 "nbformat": 4,
 "nbformat_minor": 5
}
