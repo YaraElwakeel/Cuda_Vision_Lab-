{
 "cells": [
  {
   "cell_type": "code",
   "execution_count": 93,
   "metadata": {},
   "outputs": [],
   "source": [
    "import time\n",
    "import selenium\n",
    "import requests\n",
    "import io\n",
    "import time \n",
    "from PIL import Image\n",
    "from selenium import webdriver\n",
    "from selenium.webdriver.common.by import By \n",
    "from selenium.webdriver.common.action_chains import ActionChains\n"
   ]
  },
  {
   "cell_type": "code",
   "execution_count": 106,
   "metadata": {},
   "outputs": [],
   "source": [
    "def single_img(driver):\n",
    "    url= \"https://www.google.com/search?q=robots+pictures&sca_esv=14c9acc35e76766d&rlz=1C1ONGR_deDE1102DE1102&udm=2&biw=1536&bih=730&sxsrf=ADLYWILjqhaxPhUX9dlnxN9OWyGIpsZkig%3A1731438370425&ei=IqczZ6LUGamxi-gPhPuIeA&ved=0ahUKEwii7ZPIvteJAxWp2AIHHYQ9Ag8Q4dUDCBA&uact=5&oq=robots+pictures&gs_lp=EgNpbWciD3JvYm90cyBwaWN0dXJlczIEECMYJzIGEAAYBxgeMgYQABgHGB4yBhAAGAcYHjIGEAAYBxgeMgYQABgHGB4yBhAAGAcYHjIGEAAYBxgeMgYQABgHGB4yBhAAGAcYHkjhysQEUABYAHACeACQAQCYAQCgAQCqAQC4AQPIAQCYAgKgAg6YAwCIBgGSBwEyoAcA&sclient=img\"\n",
    "    driver.get(url)\n",
    "    l = driver.find_element(\"id\",'W0wltc')\n",
    "    l.click()\n",
    "    img = driver.find_element(By.CLASS_NAME, \"mNsIhb\")\n",
    "    actions = ActionChains(driver)\n",
    "    actions.move_to_element(img).perform()\n",
    "    time.sleep(3)  # Wait for overlay elements to load\n",
    "    driver.execute_script(\"arguments[0].click();\", img)\n",
    "    time.sleep(3)\n",
    "    images = driver.find_elements(By.CSS_SELECTOR, \".sFlh5c.FyHeAf.iPVvYb\")\n",
    "    print(images)\n",
    "    driver.quit()\n",
    "\n",
    "\n",
    "\n"
   ]
  },
  {
   "cell_type": "code",
   "execution_count": 107,
   "metadata": {},
   "outputs": [],
   "source": [
    "def get_imgs_from_google(driver,delay,max_imgs):\n",
    "    def scroll_down(driver):\n",
    "        driver.execute_script(\"window.scrollTo(0,document.body.scrollHeight);\")\n",
    "        time.sleep(delay)\n",
    "\n",
    "    url= \"https://www.google.com/search?q=robots+pictures&sca_esv=14c9acc35e76766d&rlz=1C1ONGR_deDE1102DE1102&udm=2&biw=1536&bih=730&sxsrf=ADLYWILjqhaxPhUX9dlnxN9OWyGIpsZkig%3A1731438370425&ei=IqczZ6LUGamxi-gPhPuIeA&ved=0ahUKEwii7ZPIvteJAxWp2AIHHYQ9Ag8Q4dUDCBA&uact=5&oq=robots+pictures&gs_lp=EgNpbWciD3JvYm90cyBwaWN0dXJlczIEECMYJzIGEAAYBxgeMgYQABgHGB4yBhAAGAcYHjIGEAAYBxgeMgYQABgHGB4yBhAAGAcYHjIGEAAYBxgeMgYQABgHGB4yBhAAGAcYHkjhysQEUABYAHACeACQAQCYAQCgAQCqAQC4AQPIAQCYAgKgAg6YAwCIBgGSBwEyoAcA&sclient=img\"\n",
    "    driver.get(url)\n",
    "    l = driver.find_element(\"id\",'W0wltc')\n",
    "    l.click()\n",
    "    image_urls = set()\n",
    "\n",
    "    while len(image_urls) < max_imgs:\n",
    "        scroll_down(driver)\n",
    "        \n",
    "        # Find thumbnail elements\n",
    "        thumbnails = driver.find_elements(By.CLASS_NAME, \"YQ4gaf\")\n",
    "        print(f\"Found {len(thumbnails)} thumbnails\")\n",
    "\n",
    "        # Loop through each thumbnail within the max_imgs limit\n",
    "        for img in thumbnails[len(image_urls): max_imgs]:\n",
    "            try:\n",
    "                img.click()\n",
    "                time.sleep(delay)\n",
    "            except Exception as e:\n",
    "                print(f\"Error clicking thumbnail: {e}\")\n",
    "                continue\n",
    "\n",
    "            # Find the full-size images after clicking the thumbnail\n",
    "            images = driver.find_elements(By.CSS_SELECTOR, \".sFlh5c.FyHeAf.iPVvYb\")\n",
    "            print(f\"Found {len(images)} full-size images after clicking thumbnail\")\n",
    "\n",
    "            for img in images:\n",
    "                src = img.get_attribute(\"src\")\n",
    "                if src and \"http\" in src:\n",
    "                    if src not in image_urls:\n",
    "                        image_urls.add(src)\n",
    "                        print(f\"Found an image: {src}\")\n",
    "\n",
    "    # Final output to confirm number of images collected\n",
    "    print(f\"Total images found: {len(image_urls)}\")\n",
    "    return image_urls\n"
   ]
  },
  {
   "cell_type": "code",
   "execution_count": 108,
   "metadata": {},
   "outputs": [],
   "source": [
    "def download_image (download_path, url,file_name):\n",
    "    try:\n",
    "        image_content = requests.get(url).content\n",
    "        image_file = io.BytesIO(image_content)\n",
    "        image = Image.open(image_file)\n",
    "        file_path = download_path + file_name\n",
    "\n",
    "        with open(file_path,\"wb\") as f :\n",
    "            image.save(f, \"JPEG\")\n",
    "        print(\"success\")\n",
    "    except Exception as e:\n",
    "        print(\"FAILED -\",e)"
   ]
  },
  {
   "cell_type": "code",
   "execution_count": 109,
   "metadata": {},
   "outputs": [
    {
     "name": "stdout",
     "output_type": "stream",
     "text": [
      "[<selenium.webdriver.remote.webelement.WebElement (session=\"267bf7a5cf757a332e7c6ffe7642ea23\", element=\"f.331ACF98AA6F2541C5CA36BC8FA9187F.d.AC794DFAEB644BCE1A015B49AB7DD222.e.82\")>]\n"
     ]
    }
   ],
   "source": [
    "driver = webdriver.Chrome()  # Optional argument, if not specified will search path.\n",
    "# urls = get_imgs_from_google(driver,1,5)\n",
    "single_img(driver)\n",
    "# print(urls)"
   ]
  },
  {
   "cell_type": "code",
   "execution_count": null,
   "metadata": {},
   "outputs": [],
   "source": []
  }
 ],
 "metadata": {
  "kernelspec": {
   "display_name": "Python 3",
   "language": "python",
   "name": "python3"
  },
  "language_info": {
   "codemirror_mode": {
    "name": "ipython",
    "version": 3
   },
   "file_extension": ".py",
   "mimetype": "text/x-python",
   "name": "python",
   "nbconvert_exporter": "python",
   "pygments_lexer": "ipython3",
   "version": "3.12.7"
  }
 },
 "nbformat": 4,
 "nbformat_minor": 2
}
