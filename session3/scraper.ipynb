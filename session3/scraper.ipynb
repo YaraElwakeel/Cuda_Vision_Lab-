{
 "cells": [
  {
   "cell_type": "code",
   "execution_count": 80,
   "metadata": {},
   "outputs": [],
   "source": [
    "import time\n",
    "import selenium\n",
    "import requests\n",
    "import io\n",
    "import os\n",
    "import time \n",
    "from PIL import Image\n",
    "from selenium import webdriver\n",
    "from selenium.webdriver.common.by import By \n",
    "from selenium.webdriver.common.keys import Keys\n",
    "from selenium.webdriver.common.action_chains import ActionChains\n",
    "from selenium.webdriver.support.ui import WebDriverWait\n",
    "from selenium.webdriver.support import expected_conditions as EC\n",
    "from urllib.parse import quote_plus  \n",
    "\n",
    "\n"
   ]
  },
  {
   "cell_type": "code",
   "execution_count": 81,
   "metadata": {},
   "outputs": [],
   "source": [
    "def get_google_images_url(query):\n",
    "    # Encode the query to ensure it's URL-safe\n",
    "    encoded_query = quote_plus(query)\n",
    "    return f\"https://www.google.com/search?hl=en&tbm=isch&q={encoded_query}\""
   ]
  },
  {
   "cell_type": "code",
   "execution_count": 82,
   "metadata": {},
   "outputs": [],
   "source": [
    "def get_imgs_from_google(driver,max_num_imgs,url):\n",
    "    driver.get(url)\n",
    "    img_urls=set()\n",
    "    l = driver.find_element(\"id\",'W0wltc')\n",
    "    l.click()\n",
    "    # imgs = driver.find_elements(By.CLASS_NAME, \"mNsIhb\")\n",
    "    while len(img_urls) < max_num_imgs:\n",
    "        imgs = driver.find_elements(By.CLASS_NAME, \"mNsIhb\")\n",
    "        for i,img in enumerate(imgs[len(img_urls):], start=len(img_urls)):\n",
    "            actions = ActionChains(driver)\n",
    "            actions.move_to_element(img).perform()\n",
    "            time.sleep(2)  # Wait for overlay elements to load\n",
    "            driver.execute_script(\"arguments[0].click();\", img)\n",
    "            try:\n",
    "                images = WebDriverWait(driver, 10).until(\n",
    "                        EC.presence_of_element_located((By.CSS_SELECTOR, \".sFlh5c.FyHeAf.iPVvYb\"))\n",
    "                    )\n",
    "            except Exception as e:\n",
    "                print(f\"{i}Error clicking img: {e}\")\n",
    "                continue\n",
    "            img_url = images.get_attribute(\"src\")\n",
    "            img_urls.add(img_url)\n",
    "            print(f\"{i}/{max_num_imgs}-->{img_url}\")\n",
    "            if len(img_urls) >= max_num_imgs:\n",
    "                print(f\"Collected {max_num_imgs} images. Exiting loop.\")\n",
    "                break  \n",
    "    driver.quit()\n",
    "    return img_urls\n",
    "\n",
    "\n"
   ]
  },
  {
   "cell_type": "code",
   "execution_count": 94,
   "metadata": {},
   "outputs": [],
   "source": [
    "def download_image (download_path, urls,prefix):\n",
    "    if not os.path.exists(download_path):\n",
    "        os.makedirs(download_path)  # Creates the directory if it doesn't exist\n",
    "    for i , url in enumerate(urls):\n",
    "        try:\n",
    "            image_content = requests.get(url).content\n",
    "            image_file = io.BytesIO(image_content)\n",
    "            image = Image.open(image_file)\n",
    "            file_path = os.path.join(download_path, f\"{prefix}_{i + 1}.jpg\")\n",
    "                        # Convert image to RGB if it's in RGBA or P mode\n",
    "            if image.mode in (\"RGBA\", \"P\"):\n",
    "                image = image.convert(\"RGB\")\n",
    "            with open(file_path,\"wb\") as f :\n",
    "                image.save(f, \"JPEG\")\n",
    "        except Exception as e:\n",
    "            print(\"FAILED -\",e)"
   ]
  },
  {
   "cell_type": "code",
   "execution_count": 95,
   "metadata": {},
   "outputs": [
    {
     "name": "stdout",
     "output_type": "stream",
     "text": [
      "0/3-->https://www.rolandberger.com/img/og/Roland_Berger-24_2195_Humanoid_robots-OG.jpg\n",
      "1/3-->https://www.orientsoftware.com/Themes/Content/Images/blog/2022-01-07/robots-in-everyday-life.png\n",
      "2/3-->https://media.licdn.com/dms/image/D4D12AQH1pZCGpcCr7w/article-cover_image-shrink_720_1280/0/1677021806463?e=2147483647&v=beta&t=XKkiYCvkNsBKpe0zf86t4WM0dxGQWZOGgO30UTj4LZU\n",
      "Collected 3 images. Exiting loop.\n"
     ]
    }
   ],
   "source": [
    "driver = webdriver.Chrome()  \n",
    "search =\"robots pictures\"\n",
    "url_robots = get_google_images_url(search)\n",
    "urls_robots = get_imgs_from_google(driver,3,url_robots)\n",
    "download_image(\"images//Robots\",urls_robots,\"robot\")"
   ]
  },
  {
   "cell_type": "code",
   "execution_count": null,
   "metadata": {},
   "outputs": [
    {
     "name": "stdout",
     "output_type": "stream",
     "text": [
      "success\n",
      "success\n",
      "success\n",
      "success\n",
      "success\n"
     ]
    }
   ],
   "source": [
    "search =\"people photography\"\n",
    "url_humans = get_google_images_url(search)\n",
    "urls_humans = get_imgs_from_google(driver,200,url_humans)\n",
    "download_image(\"images//Humans\",urls_humans,\"human\")"
   ]
  }
 ],
 "metadata": {
  "kernelspec": {
   "display_name": "Python 3",
   "language": "python",
   "name": "python3"
  },
  "language_info": {
   "codemirror_mode": {
    "name": "ipython",
    "version": 3
   },
   "file_extension": ".py",
   "mimetype": "text/x-python",
   "name": "python",
   "nbconvert_exporter": "python",
   "pygments_lexer": "ipython3",
   "version": "3.12.7"
  }
 },
 "nbformat": 4,
 "nbformat_minor": 2
}
