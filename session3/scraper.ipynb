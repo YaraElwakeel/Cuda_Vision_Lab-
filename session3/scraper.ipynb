{
 "cells": [
  {
   "cell_type": "code",
   "execution_count": 80,
   "metadata": {},
   "outputs": [],
   "source": [
    "import time\n",
    "import selenium\n",
    "import requests\n",
    "import io\n",
    "import os\n",
    "import time \n",
    "from PIL import Image\n",
    "from selenium import webdriver\n",
    "from selenium.webdriver.common.by import By \n",
    "from selenium.webdriver.common.keys import Keys\n",
    "from selenium.webdriver.common.action_chains import ActionChains\n",
    "from selenium.webdriver.support.ui import WebDriverWait\n",
    "from selenium.webdriver.support import expected_conditions as EC\n",
    "from urllib.parse import quote_plus  \n",
    "\n",
    "\n"
   ]
  },
  {
   "cell_type": "code",
   "execution_count": 81,
   "metadata": {},
   "outputs": [],
   "source": [
    "def get_google_images_url(query):\n",
    "    # Encode the query to ensure it's URL-safe\n",
    "    encoded_query = quote_plus(query)\n",
    "    return f\"https://www.google.com/search?hl=en&tbm=isch&q={encoded_query}\""
   ]
  },
  {
   "cell_type": "code",
   "execution_count": 82,
   "metadata": {},
   "outputs": [],
   "source": [
    "def get_imgs_from_google(driver,max_num_imgs,url):\n",
    "    driver.get(url)\n",
    "    img_urls=set()\n",
    "    l = driver.find_element(\"id\",'W0wltc')\n",
    "    l.click()\n",
    "    # imgs = driver.find_elements(By.CLASS_NAME, \"mNsIhb\")\n",
    "    while len(img_urls) < max_num_imgs:\n",
    "        imgs = driver.find_elements(By.CLASS_NAME, \"mNsIhb\")\n",
    "        for i,img in enumerate(imgs[len(img_urls):], start=len(img_urls)):\n",
    "            actions = ActionChains(driver)\n",
    "            actions.move_to_element(img).perform()\n",
    "            time.sleep(2)  # Wait for overlay elements to load\n",
    "            driver.execute_script(\"arguments[0].click();\", img)\n",
    "            try:\n",
    "                images = WebDriverWait(driver, 10).until(\n",
    "                        EC.presence_of_element_located((By.CSS_SELECTOR, \".sFlh5c.FyHeAf.iPVvYb\"))\n",
    "                    )\n",
    "            except Exception as e:\n",
    "                print(f\"{i}Error clicking img: {e}\")\n",
    "                continue\n",
    "            img_url = images.get_attribute(\"src\")\n",
    "            img_urls.add(img_url)\n",
    "            print(f\"{i}/{max_num_imgs}-->{img_url}\")\n",
    "            if len(img_urls) >= max_num_imgs:\n",
    "                print(f\"Collected {max_num_imgs} images. Exiting loop.\")\n",
    "                break  \n",
    "    driver.quit()\n",
    "    return img_urls\n",
    "\n",
    "\n"
   ]
  },
  {
   "cell_type": "code",
   "execution_count": 92,
   "metadata": {},
   "outputs": [],
   "source": [
    "def download_image (download_path, urls,prefix):\n",
    "    if not os.path.exists(download_path):\n",
    "        os.makedirs(download_path)  # Creates the directory if it doesn't exist\n",
    "    for i , url in enumerate(urls):\n",
    "        try:\n",
    "            image_content = requests.get(url).content\n",
    "            image_file = io.BytesIO(image_content)\n",
    "            image = Image.open(image_file)\n",
    "            file_path = os.path.join(download_path, f\"{prefix}_{i + 1}.jpg\")\n",
    "                        # Convert image to RGB if it's in RGBA or P mode\n",
    "            if image.mode in (\"RGBA\", \"P\"):\n",
    "                image = image.convert(\"RGB\")\n",
    "            with open(file_path,\"wb\") as f :\n",
    "                image.save(f, \"JPEG\")\n",
    "        except Exception as e:\n",
    "            print(\"FAILED -\",e)"
   ]
  },
  {
   "cell_type": "code",
   "execution_count": 93,
   "metadata": {},
   "outputs": [
    {
     "ename": "WebDriverException",
     "evalue": "Message: disconnected: Unable to receive message from renderer\n  (failed to check if window was closed: disconnected: not connected to DevTools)\n  (Session info: chrome=130.0.6723.117)\nStacktrace:\n\tGetHandleVerifier [0x00007FF7913438A5+3004357]\n\t(No symbol) [0x00007FF790FD9970]\n\t(No symbol) [0x00007FF790E8582A]\n\t(No symbol) [0x00007FF790E73C07]\n\t(No symbol) [0x00007FF790E7390A]\n\t(No symbol) [0x00007FF790E7153E]\n\t(No symbol) [0x00007FF790E71E0C]\n\t(No symbol) [0x00007FF790E888CA]\n\t(No symbol) [0x00007FF790F1C86E]\n\t(No symbol) [0x00007FF790EFBBDA]\n\t(No symbol) [0x00007FF790F1BA4C]\n\t(No symbol) [0x00007FF790EFB983]\n\t(No symbol) [0x00007FF790EC7628]\n\t(No symbol) [0x00007FF790EC8791]\n\tGetHandleVerifier [0x00007FF79136A00D+3161901]\n\tGetHandleVerifier [0x00007FF7913BE060+3506048]\n\tGetHandleVerifier [0x00007FF7913B400D+3465005]\n\tGetHandleVerifier [0x00007FF791130EEB+830987]\n\t(No symbol) [0x00007FF790FE467F]\n\t(No symbol) [0x00007FF790FE09D4]\n\t(No symbol) [0x00007FF790FE0B6D]\n\t(No symbol) [0x00007FF790FD0149]\n\tBaseThreadInitThunk [0x00007FFEC842257D+29]\n\tRtlUserThreadStart [0x00007FFECA52AF08+40]\n",
     "output_type": "error",
     "traceback": [
      "\u001b[1;31m---------------------------------------------------------------------------\u001b[0m",
      "\u001b[1;31mWebDriverException\u001b[0m                        Traceback (most recent call last)",
      "Cell \u001b[1;32mIn[93], line 4\u001b[0m\n\u001b[0;32m      2\u001b[0m search \u001b[38;5;241m=\u001b[39m\u001b[38;5;124m\"\u001b[39m\u001b[38;5;124mrobots pictures\u001b[39m\u001b[38;5;124m\"\u001b[39m\n\u001b[0;32m      3\u001b[0m url_robots \u001b[38;5;241m=\u001b[39m get_google_images_url(search)\n\u001b[1;32m----> 4\u001b[0m urls_robots \u001b[38;5;241m=\u001b[39m \u001b[43mget_imgs_from_google\u001b[49m\u001b[43m(\u001b[49m\u001b[43mdriver\u001b[49m\u001b[43m,\u001b[49m\u001b[38;5;241;43m3\u001b[39;49m\u001b[43m,\u001b[49m\u001b[43murl_robots\u001b[49m\u001b[43m)\u001b[49m\n\u001b[0;32m      5\u001b[0m download_image(\u001b[38;5;124m\"\u001b[39m\u001b[38;5;124mimages//Robots\u001b[39m\u001b[38;5;124m\"\u001b[39m,urls_robots,\u001b[38;5;124m\"\u001b[39m\u001b[38;5;124mrobot\u001b[39m\u001b[38;5;124m\"\u001b[39m)\n",
      "Cell \u001b[1;32mIn[82], line 2\u001b[0m, in \u001b[0;36mget_imgs_from_google\u001b[1;34m(driver, max_num_imgs, url)\u001b[0m\n\u001b[0;32m      1\u001b[0m \u001b[38;5;28;01mdef\u001b[39;00m \u001b[38;5;21mget_imgs_from_google\u001b[39m(driver,max_num_imgs,url):\n\u001b[1;32m----> 2\u001b[0m     \u001b[43mdriver\u001b[49m\u001b[38;5;241;43m.\u001b[39;49m\u001b[43mget\u001b[49m\u001b[43m(\u001b[49m\u001b[43murl\u001b[49m\u001b[43m)\u001b[49m\n\u001b[0;32m      3\u001b[0m     img_urls\u001b[38;5;241m=\u001b[39m\u001b[38;5;28mset\u001b[39m()\n\u001b[0;32m      4\u001b[0m     l \u001b[38;5;241m=\u001b[39m driver\u001b[38;5;241m.\u001b[39mfind_element(\u001b[38;5;124m\"\u001b[39m\u001b[38;5;124mid\u001b[39m\u001b[38;5;124m\"\u001b[39m,\u001b[38;5;124m'\u001b[39m\u001b[38;5;124mW0wltc\u001b[39m\u001b[38;5;124m'\u001b[39m)\n",
      "File \u001b[1;32m~\\AppData\\Local\\Packages\\PythonSoftwareFoundation.Python.3.12_qbz5n2kfra8p0\\LocalCache\\local-packages\\Python312\\site-packages\\selenium\\webdriver\\remote\\webdriver.py:389\u001b[0m, in \u001b[0;36mWebDriver.get\u001b[1;34m(self, url)\u001b[0m\n\u001b[0;32m    387\u001b[0m \u001b[38;5;28;01mdef\u001b[39;00m \u001b[38;5;21mget\u001b[39m(\u001b[38;5;28mself\u001b[39m, url: \u001b[38;5;28mstr\u001b[39m) \u001b[38;5;241m-\u001b[39m\u001b[38;5;241m>\u001b[39m \u001b[38;5;28;01mNone\u001b[39;00m:\n\u001b[0;32m    388\u001b[0m \u001b[38;5;250m    \u001b[39m\u001b[38;5;124;03m\"\"\"Loads a web page in the current browser session.\"\"\"\u001b[39;00m\n\u001b[1;32m--> 389\u001b[0m     \u001b[38;5;28;43mself\u001b[39;49m\u001b[38;5;241;43m.\u001b[39;49m\u001b[43mexecute\u001b[49m\u001b[43m(\u001b[49m\u001b[43mCommand\u001b[49m\u001b[38;5;241;43m.\u001b[39;49m\u001b[43mGET\u001b[49m\u001b[43m,\u001b[49m\u001b[43m \u001b[49m\u001b[43m{\u001b[49m\u001b[38;5;124;43m\"\u001b[39;49m\u001b[38;5;124;43murl\u001b[39;49m\u001b[38;5;124;43m\"\u001b[39;49m\u001b[43m:\u001b[49m\u001b[43m \u001b[49m\u001b[43murl\u001b[49m\u001b[43m}\u001b[49m\u001b[43m)\u001b[49m\n",
      "File \u001b[1;32m~\\AppData\\Local\\Packages\\PythonSoftwareFoundation.Python.3.12_qbz5n2kfra8p0\\LocalCache\\local-packages\\Python312\\site-packages\\selenium\\webdriver\\remote\\webdriver.py:380\u001b[0m, in \u001b[0;36mWebDriver.execute\u001b[1;34m(self, driver_command, params)\u001b[0m\n\u001b[0;32m    378\u001b[0m response \u001b[38;5;241m=\u001b[39m \u001b[38;5;28mself\u001b[39m\u001b[38;5;241m.\u001b[39mcommand_executor\u001b[38;5;241m.\u001b[39mexecute(driver_command, params)\n\u001b[0;32m    379\u001b[0m \u001b[38;5;28;01mif\u001b[39;00m response:\n\u001b[1;32m--> 380\u001b[0m     \u001b[38;5;28;43mself\u001b[39;49m\u001b[38;5;241;43m.\u001b[39;49m\u001b[43merror_handler\u001b[49m\u001b[38;5;241;43m.\u001b[39;49m\u001b[43mcheck_response\u001b[49m\u001b[43m(\u001b[49m\u001b[43mresponse\u001b[49m\u001b[43m)\u001b[49m\n\u001b[0;32m    381\u001b[0m     response[\u001b[38;5;124m\"\u001b[39m\u001b[38;5;124mvalue\u001b[39m\u001b[38;5;124m\"\u001b[39m] \u001b[38;5;241m=\u001b[39m \u001b[38;5;28mself\u001b[39m\u001b[38;5;241m.\u001b[39m_unwrap_value(response\u001b[38;5;241m.\u001b[39mget(\u001b[38;5;124m\"\u001b[39m\u001b[38;5;124mvalue\u001b[39m\u001b[38;5;124m\"\u001b[39m, \u001b[38;5;28;01mNone\u001b[39;00m))\n\u001b[0;32m    382\u001b[0m     \u001b[38;5;28;01mreturn\u001b[39;00m response\n",
      "File \u001b[1;32m~\\AppData\\Local\\Packages\\PythonSoftwareFoundation.Python.3.12_qbz5n2kfra8p0\\LocalCache\\local-packages\\Python312\\site-packages\\selenium\\webdriver\\remote\\errorhandler.py:229\u001b[0m, in \u001b[0;36mErrorHandler.check_response\u001b[1;34m(self, response)\u001b[0m\n\u001b[0;32m    227\u001b[0m         alert_text \u001b[38;5;241m=\u001b[39m value[\u001b[38;5;124m\"\u001b[39m\u001b[38;5;124malert\u001b[39m\u001b[38;5;124m\"\u001b[39m]\u001b[38;5;241m.\u001b[39mget(\u001b[38;5;124m\"\u001b[39m\u001b[38;5;124mtext\u001b[39m\u001b[38;5;124m\"\u001b[39m)\n\u001b[0;32m    228\u001b[0m     \u001b[38;5;28;01mraise\u001b[39;00m exception_class(message, screen, stacktrace, alert_text)  \u001b[38;5;66;03m# type: ignore[call-arg]  # mypy is not smart enough here\u001b[39;00m\n\u001b[1;32m--> 229\u001b[0m \u001b[38;5;28;01mraise\u001b[39;00m exception_class(message, screen, stacktrace)\n",
      "\u001b[1;31mWebDriverException\u001b[0m: Message: disconnected: Unable to receive message from renderer\n  (failed to check if window was closed: disconnected: not connected to DevTools)\n  (Session info: chrome=130.0.6723.117)\nStacktrace:\n\tGetHandleVerifier [0x00007FF7913438A5+3004357]\n\t(No symbol) [0x00007FF790FD9970]\n\t(No symbol) [0x00007FF790E8582A]\n\t(No symbol) [0x00007FF790E73C07]\n\t(No symbol) [0x00007FF790E7390A]\n\t(No symbol) [0x00007FF790E7153E]\n\t(No symbol) [0x00007FF790E71E0C]\n\t(No symbol) [0x00007FF790E888CA]\n\t(No symbol) [0x00007FF790F1C86E]\n\t(No symbol) [0x00007FF790EFBBDA]\n\t(No symbol) [0x00007FF790F1BA4C]\n\t(No symbol) [0x00007FF790EFB983]\n\t(No symbol) [0x00007FF790EC7628]\n\t(No symbol) [0x00007FF790EC8791]\n\tGetHandleVerifier [0x00007FF79136A00D+3161901]\n\tGetHandleVerifier [0x00007FF7913BE060+3506048]\n\tGetHandleVerifier [0x00007FF7913B400D+3465005]\n\tGetHandleVerifier [0x00007FF791130EEB+830987]\n\t(No symbol) [0x00007FF790FE467F]\n\t(No symbol) [0x00007FF790FE09D4]\n\t(No symbol) [0x00007FF790FE0B6D]\n\t(No symbol) [0x00007FF790FD0149]\n\tBaseThreadInitThunk [0x00007FFEC842257D+29]\n\tRtlUserThreadStart [0x00007FFECA52AF08+40]\n"
     ]
    }
   ],
   "source": [
    "driver = webdriver.Chrome()  \n",
    "search =\"robots pictures\"\n",
    "url_robots = get_google_images_url(search)\n",
    "urls_robots = get_imgs_from_google(driver,3,url_robots)\n",
    "download_image(\"images//Robots\",urls_robots,\"robot\")"
   ]
  },
  {
   "cell_type": "code",
   "execution_count": null,
   "metadata": {},
   "outputs": [
    {
     "name": "stdout",
     "output_type": "stream",
     "text": [
      "success\n",
      "success\n",
      "success\n",
      "success\n",
      "success\n"
     ]
    }
   ],
   "source": [
    "search =\"people photography\"\n",
    "url_humans = get_google_images_url(search)\n",
    "urls_humans = get_imgs_from_google(driver,200,url_humans)\n",
    "download_image(\"images//Humans\",urls_humans,\"human\")"
   ]
  }
 ],
 "metadata": {
  "kernelspec": {
   "display_name": "Python 3",
   "language": "python",
   "name": "python3"
  },
  "language_info": {
   "codemirror_mode": {
    "name": "ipython",
    "version": 3
   },
   "file_extension": ".py",
   "mimetype": "text/x-python",
   "name": "python",
   "nbconvert_exporter": "python",
   "pygments_lexer": "ipython3",
   "version": "3.12.7"
  }
 },
 "nbformat": 4,
 "nbformat_minor": 2
}
